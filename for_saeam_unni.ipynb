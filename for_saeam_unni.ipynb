{
 "cells": [
  {
   "cell_type": "code",
   "execution_count": 99,
   "metadata": {
    "collapsed": false
   },
   "outputs": [
    {
     "name": "stdout",
     "output_type": "stream",
     "text": [
      "1.0.8\n"
     ]
    }
   ],
   "source": [
    "# 3. Import libraries and modules\n",
    "%matplotlib inline\n",
    "import matplotlib.pyplot as plt\n",
    "import numpy as np\n",
    "np.random.seed(123)  # for reproducibility\n",
    "import os\n",
    "import matplotlib\n",
    "from PIL import Image\n",
    "\n",
    "import keras\n",
    "print keras.__version__\n",
    "\n",
    "from keras import backend as K\n",
    "K.set_image_dim_ordering('tf')\n",
    "from keras.models import Sequential\n",
    "from keras.layers import Dense, Dropout, Activation, Flatten\n",
    "from keras.layers import Convolution2D, MaxPooling2D\n",
    "from keras.utils import np_utils\n",
    "from keras.optimizers import SGD\n",
    "import theano\n",
    "import scipy as sp\n",
    "from matplotlib import gridspec\n",
    "from sklearn.decomposition import PCA\n",
    "from numpy import genfromtxt\n",
    "from random import shuffle"
   ]
  },
  {
   "cell_type": "code",
   "execution_count": 114,
   "metadata": {
    "collapsed": false
   },
   "outputs": [
    {
     "name": "stdout",
     "output_type": "stream",
     "text": [
      "picking_xy_125_02.dat\n",
      "picking_xy_128_92.dat\n",
      "picking_xy_123_53.dat\n",
      "picking_xy_126_82.dat\n",
      "picking_xy_135_44.dat\n",
      "picking_xy_126_22.dat\n",
      "picking_xy_135_14.dat\n",
      "#131_2_avg.dat\n",
      "picking_xy_128_52.dat\n",
      "picking_xy_130_24.dat\n",
      "picking_xy_126_72.dat\n",
      "picking_xy_125_22.dat\n",
      "#130_4_avg.dat\n",
      "picking_xy_126_32.dat\n",
      "picking_xy_125_42.dat\n",
      "picking_xy_129_54.dat\n",
      "#125_2_avg.dat\n",
      "picking_xy_133_42.dat\n",
      "picking_xy_134_32.dat\n",
      "picking_xy_131_42.dat\n",
      "picking_xy_130_14.dat\n",
      "picking_xy_129_84.dat\n",
      "picking_xy_134_22.dat\n",
      "picking_xy_123_73.dat\n",
      "picking_xy_126_12.dat\n",
      "picking_xy_129_04.dat\n",
      "picking_xy_128_82.dat\n",
      "picking_xy_128_12.dat\n",
      "picking_xy_127_03.dat\n",
      "picking_xy_133_22.dat\n",
      "picking_xy_129_24.dat\n",
      "picking_xy_125_12.dat\n",
      "picking_xy_125_92.dat\n",
      "picking_xy_123_13.dat\n",
      "picking_xy_127_53.dat\n",
      "#133_2_avg.dat\n",
      "picking_xy_131_32.dat\n",
      "picking_xy_129_94.dat\n",
      "picking_xy_127_83.dat\n",
      "picking_xy_132_02.dat\n",
      "picking_xy_130_44.dat\n",
      "picking_xy_126_62.dat\n",
      "picking_xy_127_63.dat\n",
      "picking_xy_135_34.dat\n",
      "picking_xy_123_43.dat\n",
      "picking_xy_128_02.dat\n",
      "picking_xy_123_23.dat\n",
      "picking_xy_126_02.dat\n",
      "picking_xy_123_03.dat\n",
      "picking_xy_123_83.dat\n",
      "picking_xy_126_42.dat\n",
      "picking_xy_134_42.dat\n",
      "picking_xy_132_42.dat\n",
      "picking_xy_132_12.dat\n",
      "picking_xy_133_02.dat\n",
      "picking_xy_131_12.dat\n",
      "picking_xy_129_64.dat\n",
      "picking_xy_134_12.dat\n",
      "picking_xy_127_33.dat\n",
      "picking_xy_130_34.dat\n",
      "picking_xy_123_93.dat\n",
      "picking_xy_131_22.dat\n",
      "picking_xy_123_33.dat\n",
      "picking_xy_131_02.dat\n",
      "#128_2_avg.dat\n",
      "picking_xy_123_63.dat\n",
      "picking_xy_127_93.dat\n",
      "picking_xy_125_82.dat\n",
      "picking_xy_129_44.dat\n",
      "picking_xy_127_43.dat\n",
      "picking_xy_134_02.dat\n",
      "#135_4_avg.dat\n",
      "picking_xy_133_12.dat\n",
      "#127_3_avg.dat\n",
      "picking_xy_128_42.dat\n",
      "picking_xy_130_04.dat\n",
      "picking_xy_126_92.dat\n",
      "picking_xy_129_14.dat\n",
      "picking_xy_132_22.dat\n",
      "picking_xy_125_52.dat\n",
      "picking_xy_129_34.dat\n",
      "#134_2_avg.dat\n",
      "picking_xy_128_62.dat\n",
      "picking_xy_125_62.dat\n",
      "picking_xy_135_24.dat\n",
      "picking_xy_127_73.dat\n",
      "#129_4_avg.dat\n",
      "picking_xy_128_72.dat\n",
      "picking_xy_128_22.dat\n",
      "picking_xy_132_32.dat\n",
      "picking_xy_125_32.dat\n",
      "picking_xy_133_32.dat\n",
      "#123_3_avg.dat\n",
      "picking_xy_127_13.dat\n",
      "picking_xy_126_52.dat\n",
      "picking_xy_128_32.dat\n",
      "picking_xy_129_74.dat\n",
      "#132_2_avg.dat\n",
      "picking_xy_127_23.dat\n",
      "picking_xy_135_04.dat\n",
      "picking_xy_125_72.dat\n"
     ]
    }
   ],
   "source": [
    "dir_path='saeam_data2/'\n",
    "\n",
    "for root, dirs, files in os.walk(dir_path, topdown=True):\n",
    "    for name in files: # loop through all the files in data/\n",
    "        if name[0] != '.':\n",
    "            print name"
   ]
  },
  {
   "cell_type": "code",
   "execution_count": 115,
   "metadata": {
    "collapsed": false
   },
   "outputs": [],
   "source": [
    "graph_data = dict()\n",
    "\n",
    "for root, dirs, files in os.walk(dir_path, topdown=False):\n",
    "    for name in files: # loop through all the files in data/\n",
    "        if \"#\" in name and name[0] != '.':\n",
    "            my_data = np.log10(genfromtxt(os.path.join(root, name), delimiter=','))[1:,] # cut off the 1st row 0 value\n",
    "            graph_data[name] = my_data"
   ]
  },
  {
   "cell_type": "code",
   "execution_count": 116,
   "metadata": {
    "collapsed": false
   },
   "outputs": [
    {
     "data": {
      "text/plain": [
       "{'#123_3_avg.dat': array([[-3.80740467,  2.0213788 ],\n",
       "        [-3.50636074,  2.02308911],\n",
       "        [-3.33027413,  2.00186789],\n",
       "        ..., \n",
       "        [-0.80098496,  1.86380506],\n",
       "        [-0.80055741,  1.82086481],\n",
       "        [-0.80013029,  1.78449613]]),\n",
       " '#125_2_avg.dat': array([[-3.80740467,  2.0371704 ],\n",
       "        [-3.50636074,  2.00675267],\n",
       "        [-3.33027413,  1.9985348 ],\n",
       "        ..., \n",
       "        [-0.80098496,  1.85958673],\n",
       "        [-0.80055741,  1.81594384],\n",
       "        [-0.80013029,  1.77948898]]),\n",
       " '#127_3_avg.dat': array([[-3.80740467,  1.98387178],\n",
       "        [-3.50636074,  1.96601594],\n",
       "        [-3.33027413,  1.94478909],\n",
       "        ..., \n",
       "        [-0.80098496,  1.86019335],\n",
       "        [-0.80055741,  1.81665663],\n",
       "        [-0.80013029,  1.78060159]]),\n",
       " '#128_2_avg.dat': array([[-3.80740467,  1.93756468],\n",
       "        [-3.50636074,  1.92784213],\n",
       "        [-3.33027413,  1.92676381],\n",
       "        ..., \n",
       "        [-0.80098496,  1.8296618 ],\n",
       "        [-0.80055741,  1.78623107],\n",
       "        [-0.80013029,  1.75056893]]),\n",
       " '#129_4_avg.dat': array([[-3.80740467,  1.97557291],\n",
       "        [-3.50636074,  1.97262728],\n",
       "        [-3.33027413,  1.97869374],\n",
       "        ..., \n",
       "        [-0.80098496,  1.87400791],\n",
       "        [-0.80055741,  1.83002119],\n",
       "        [-0.80013029,  1.79381089]]),\n",
       " '#130_4_avg.dat': array([[-3.80740467,  2.05369629],\n",
       "        [-3.50636074,  2.0344016 ],\n",
       "        [-3.33027413,  2.02783175],\n",
       "        ..., \n",
       "        [-0.80098496,  1.86883706],\n",
       "        [-0.80055741,  1.82538897],\n",
       "        [-0.80013029,  1.79099802]]),\n",
       " '#131_2_avg.dat': array([[-3.80740467,  2.03263039],\n",
       "        [-3.50636074,  2.00499491],\n",
       "        [-3.33027413,  1.9742964 ],\n",
       "        ..., \n",
       "        [-0.80098496,  1.87279375],\n",
       "        [-0.80055741,  1.82849461],\n",
       "        [-0.80013029,  1.79245075]]),\n",
       " '#132_2_avg.dat': array([[-3.80740467,  2.0338823 ],\n",
       "        [-3.50636074,  2.03214257],\n",
       "        [-3.33027413,  2.01468039],\n",
       "        ..., \n",
       "        [-0.80098496,  1.86925284],\n",
       "        [-0.80055741,  1.82527219],\n",
       "        [-0.80013029,  1.78952168]]),\n",
       " '#133_2_avg.dat': array([[-3.80740467,  2.01083372],\n",
       "        [-3.50636074,  1.99770495],\n",
       "        [-3.33027413,  1.97996158],\n",
       "        ..., \n",
       "        [-0.80098496,  1.8719393 ],\n",
       "        [-0.80055741,  1.82779334],\n",
       "        [-0.80013029,  1.79240097]]),\n",
       " '#134_2_avg.dat': array([[-3.80740467,  1.98610366],\n",
       "        [-3.50636074,  1.98644047],\n",
       "        [-3.33027413,  1.97507225],\n",
       "        ..., \n",
       "        [-0.80098496,  1.86381354],\n",
       "        [-0.80055741,  1.81996899],\n",
       "        [-0.80013029,  1.78446938]]),\n",
       " '#135_4_avg.dat': array([[-3.80740467,  2.05943063],\n",
       "        [-3.50636074,  2.03609838],\n",
       "        [-3.33027413,  2.02571461],\n",
       "        ..., \n",
       "        [-0.80098496,  1.86521884],\n",
       "        [-0.80055741,  1.82103605],\n",
       "        [-0.80013029,  1.78540265]])}"
      ]
     },
     "execution_count": 116,
     "metadata": {},
     "output_type": "execute_result"
    }
   ],
   "source": [
    "graph_data"
   ]
  },
  {
   "cell_type": "code",
   "execution_count": 117,
   "metadata": {
    "collapsed": false
   },
   "outputs": [
    {
     "data": {
      "image/png": "[encoded data removed]",
      "text/plain": [
       "<matplotlib.figure.Figure at 0x7f6cb2297a50>"
      ]
     },
     "metadata": {},
     "output_type": "display_data"
    }
   ],
   "source": [
    "fig, axes = plt.subplots(nrows=1, ncols=3, figsize=(15,5))\n",
    "axes.flat[0].plot(graph_data['#123_3_avg.dat'][:,0], graph_data['#123_3_avg.dat'][:,1])\n",
    "axes.flat[1].plot(graph_data['#125_2_avg.dat'][:,0], graph_data['#125_2_avg.dat'][:,1])\n",
    "axes.flat[2].plot(graph_data['#127_3_avg.dat'][:,0], graph_data['#127_3_avg.dat'][:,1])\n",
    "plt.show()"
   ]
  },
  {
   "cell_type": "code",
   "execution_count": 118,
   "metadata": {
    "collapsed": false
   },
   "outputs": [
    {
     "name": "stdout",
     "output_type": "stream",
     "text": [
      "[[  2.19690000e-02   1.43230395e+02]\n",
      " [  4.89240000e-02   9.79064840e+01]\n",
      " [  7.83660000e-02   9.06353990e+01]\n",
      " [  1.01900000e-01   9.00079610e+01]]\n"
     ]
    },
    {
     "data": {
      "text/plain": [
       "<matplotlib.collections.PathCollection at 0x7f6cb225c850>"
      ]
     },
     "execution_count": 118,
     "metadata": {},
     "output_type": "execute_result"
    },
    {
     "data": {
      "image/png": "[encoded data removed]",
      "text/plain": [
       "<matplotlib.figure.Figure at 0x7f6cb1a9dd90>"
      ]
     },
     "metadata": {},
     "output_type": "display_data"
    }
   ],
   "source": [
    "my_data = genfromtxt(os.path.join(root, 'picking_xy_127_03.dat'), delimiter='\\t')\n",
    "print my_data\n",
    "plt.plot(graph_data['#127_3_avg.dat'][:,0], graph_data['#127_3_avg.dat'][:,1])\n",
    "plt.scatter(np.log10(my_data[:,0]), np.log10(my_data[:,1]))"
   ]
  },
  {
   "cell_type": "code",
   "execution_count": 119,
   "metadata": {
    "collapsed": false
   },
   "outputs": [
    {
     "data": {
      "text/plain": [
       "(1017, 2)"
      ]
     },
     "execution_count": 119,
     "metadata": {},
     "output_type": "execute_result"
    }
   ],
   "source": [
    "graph_data['#123_3_avg.dat'].shape"
   ]
  },
  {
   "cell_type": "code",
   "execution_count": 77,
   "metadata": {
    "collapsed": false
   },
   "outputs": [
    {
     "data": {
      "text/plain": [
       "array([[-3.80740467,  2.0213788 ],\n",
       "       [-3.50636074,  2.02308911],\n",
       "       [-3.33027413,  2.00186789],\n",
       "       ..., \n",
       "       [-0.80098496,  1.86380506],\n",
       "       [-0.80055741,  1.82086481],\n",
       "       [-0.80013029,  1.78449613]])"
      ]
     },
     "execution_count": 77,
     "metadata": {},
     "output_type": "execute_result"
    }
   ],
   "source": [
    "graph_data['#123_3_avg.dat']"
   ]
  },
  {
   "cell_type": "code",
   "execution_count": 70,
   "metadata": {
    "collapsed": false
   },
   "outputs": [
    {
     "data": {
      "text/plain": [
       "array([0, 0])"
      ]
     },
     "execution_count": 70,
     "metadata": {},
     "output_type": "execute_result"
    }
   ],
   "source": [
    "sum(graph_data['#123_3_avg.dat'] == np.nan)"
   ]
  },
  {
   "cell_type": "code",
   "execution_count": 120,
   "metadata": {
    "collapsed": false
   },
   "outputs": [
    {
     "name": "stdout",
     "output_type": "stream",
     "text": [
      "(80, 2034) (80, 8)\n"
     ]
    }
   ],
   "source": [
    "X_data = []\n",
    "y_data = []\n",
    "label_order = []\n",
    "for k,v in graph_data.items():\n",
    "    graph_number = k[1:k.find('_')] # like 127..\n",
    "    \n",
    "    # though it's brute force way..\n",
    "    # We'll walk through all, once for each different graph\n",
    "    for root, dirs, files in os.walk(dir_path, topdown=False):\n",
    "        for name in files: # loop through all the files in data/\n",
    "            if \"picking_xy_\"+graph_number in name and name[0] != '.':\n",
    "                points = np.log10(genfromtxt(os.path.join(root, name), delimiter='\\t'))\n",
    "                flattened_graph = np.hstack((graph_data[k][:,0],graph_data[k][:,1]))\n",
    "                #print flattened_graph.shape\n",
    "                #X_data.append(graph_data[k]) # append graph\n",
    "                X_data.append(flattened_graph)\n",
    "                flattened_points = np.hstack((points[:,0],points[:,1]))\n",
    "                y_data.append(flattened_points)\n",
    "                label_order.append(k)\n",
    "\n",
    "    \n",
    "X = np.asarray(X_data)\n",
    "y = np.asarray(y_data)\n",
    "print X.shape, y.shape"
   ]
  },
  {
   "cell_type": "code",
   "execution_count": 121,
   "metadata": {
    "collapsed": false
   },
   "outputs": [
    {
     "data": {
      "text/plain": [
       "['#129_4_avg.dat',\n",
       " '#129_4_avg.dat',\n",
       " '#129_4_avg.dat',\n",
       " '#129_4_avg.dat',\n",
       " '#129_4_avg.dat',\n",
       " '#129_4_avg.dat',\n",
       " '#129_4_avg.dat',\n",
       " '#129_4_avg.dat',\n",
       " '#129_4_avg.dat',\n",
       " '#129_4_avg.dat',\n",
       " '#131_2_avg.dat',\n",
       " '#131_2_avg.dat',\n",
       " '#131_2_avg.dat',\n",
       " '#131_2_avg.dat',\n",
       " '#131_2_avg.dat',\n",
       " '#130_4_avg.dat',\n",
       " '#130_4_avg.dat',\n",
       " '#130_4_avg.dat',\n",
       " '#130_4_avg.dat',\n",
       " '#130_4_avg.dat',\n",
       " '#128_2_avg.dat',\n",
       " '#128_2_avg.dat',\n",
       " '#128_2_avg.dat',\n",
       " '#128_2_avg.dat',\n",
       " '#128_2_avg.dat',\n",
       " '#128_2_avg.dat',\n",
       " '#128_2_avg.dat',\n",
       " '#128_2_avg.dat',\n",
       " '#128_2_avg.dat',\n",
       " '#128_2_avg.dat',\n",
       " '#127_3_avg.dat',\n",
       " '#127_3_avg.dat',\n",
       " '#127_3_avg.dat',\n",
       " '#127_3_avg.dat',\n",
       " '#127_3_avg.dat',\n",
       " '#127_3_avg.dat',\n",
       " '#127_3_avg.dat',\n",
       " '#127_3_avg.dat',\n",
       " '#127_3_avg.dat',\n",
       " '#127_3_avg.dat',\n",
       " '#125_2_avg.dat',\n",
       " '#125_2_avg.dat',\n",
       " '#125_2_avg.dat',\n",
       " '#125_2_avg.dat',\n",
       " '#125_2_avg.dat',\n",
       " '#125_2_avg.dat',\n",
       " '#125_2_avg.dat',\n",
       " '#125_2_avg.dat',\n",
       " '#125_2_avg.dat',\n",
       " '#125_2_avg.dat',\n",
       " '#133_2_avg.dat',\n",
       " '#133_2_avg.dat',\n",
       " '#133_2_avg.dat',\n",
       " '#133_2_avg.dat',\n",
       " '#133_2_avg.dat',\n",
       " '#132_2_avg.dat',\n",
       " '#132_2_avg.dat',\n",
       " '#132_2_avg.dat',\n",
       " '#132_2_avg.dat',\n",
       " '#132_2_avg.dat',\n",
       " '#123_3_avg.dat',\n",
       " '#123_3_avg.dat',\n",
       " '#123_3_avg.dat',\n",
       " '#123_3_avg.dat',\n",
       " '#123_3_avg.dat',\n",
       " '#123_3_avg.dat',\n",
       " '#123_3_avg.dat',\n",
       " '#123_3_avg.dat',\n",
       " '#123_3_avg.dat',\n",
       " '#123_3_avg.dat',\n",
       " '#134_2_avg.dat',\n",
       " '#134_2_avg.dat',\n",
       " '#134_2_avg.dat',\n",
       " '#134_2_avg.dat',\n",
       " '#134_2_avg.dat',\n",
       " '#135_4_avg.dat',\n",
       " '#135_4_avg.dat',\n",
       " '#135_4_avg.dat',\n",
       " '#135_4_avg.dat',\n",
       " '#135_4_avg.dat']"
      ]
     },
     "execution_count": 121,
     "metadata": {},
     "output_type": "execute_result"
    }
   ],
   "source": [
    "label_order"
   ]
  },
  {
   "cell_type": "code",
   "execution_count": 124,
   "metadata": {
    "collapsed": false
   },
   "outputs": [
    {
     "data": {
      "text/plain": [
       "['#134_2_avg.dat',\n",
       " '#135_4_avg.dat',\n",
       " '#135_4_avg.dat',\n",
       " '#135_4_avg.dat',\n",
       " '#135_4_avg.dat',\n",
       " '#135_4_avg.dat']"
      ]
     },
     "execution_count": 124,
     "metadata": {},
     "output_type": "execute_result"
    }
   ],
   "source": [
    "label_order[74:]"
   ]
  },
  {
   "cell_type": "code",
   "execution_count": 125,
   "metadata": {
    "collapsed": false
   },
   "outputs": [
    {
     "name": "stdout",
     "output_type": "stream",
     "text": [
      "(75, 2034) (75, 8) (5, 2034) (5, 8)\n"
     ]
    }
   ],
   "source": [
    "train_split = 75\n",
    "X_train = X[:train_split,]\n",
    "y_train = y[:train_split,]\n",
    "X_test = X[train_split:,]\n",
    "y_test = y[train_split:,]\n",
    "print X_train.shape, y_train.shape, X_test.shape, y_test.shape"
   ]
  },
  {
   "cell_type": "code",
   "execution_count": 126,
   "metadata": {
    "collapsed": false
   },
   "outputs": [
    {
     "name": "stdout",
     "output_type": "stream",
     "text": [
      "____________________________________________________________________________________________________\n",
      "Layer (type)                     Output Shape          Param #     Connected to                     \n",
      "====================================================================================================\n",
      "dense_26 (Dense)                 (None, 100)           203500      dense_input_15[0][0]             \n",
      "____________________________________________________________________________________________________\n",
      "activation_10 (Activation)       (None, 100)           0           dense_26[0][0]                   \n",
      "____________________________________________________________________________________________________\n",
      "dense_27 (Dense)                 (None, 8)             808         activation_10[0][0]              \n",
      "====================================================================================================\n",
      "Total params: 204308\n",
      "____________________________________________________________________________________________________\n"
     ]
    }
   ],
   "source": [
    "from keras.models import Sequential\n",
    "from keras.layers import Dense, Activation\n",
    "from keras.optimizers import SGD\n",
    "\n",
    "model = Sequential()\n",
    "model.add(Dense(100, input_dim=2034))\n",
    "model.add(Activation('relu'))\n",
    "model.add(Dense(8))\n",
    "\n",
    "model.summary()"
   ]
  },
  {
   "cell_type": "code",
   "execution_count": 127,
   "metadata": {
    "collapsed": false
   },
   "outputs": [
    {
     "name": "stdout",
     "output_type": "stream",
     "text": [
      "Train on 75 samples, validate on 5 samples\n",
      "Epoch 1/100\n",
      "75/75 [==============================] - 0s - loss: 694.8891 - acc: 0.0000e+00 - val_loss: 2.9978 - val_acc: 0.0000e+00\n",
      "Epoch 2/100\n",
      "75/75 [==============================] - 0s - loss: 2.7697 - acc: 0.0000e+00 - val_loss: 2.7329 - val_acc: 0.0000e+00\n",
      "Epoch 3/100\n",
      "75/75 [==============================] - 0s - loss: 2.5160 - acc: 0.0000e+00 - val_loss: 2.4807 - val_acc: 0.0000e+00\n",
      "Epoch 4/100\n",
      "75/75 [==============================] - 0s - loss: 2.2733 - acc: 0.0000e+00 - val_loss: 2.2328 - val_acc: 0.0000e+00\n",
      "Epoch 5/100\n",
      "75/75 [==============================] - 0s - loss: 2.0352 - acc: 0.0000e+00 - val_loss: 1.9900 - val_acc: 0.0000e+00\n",
      "Epoch 6/100\n",
      "75/75 [==============================] - 0s - loss: 1.8034 - acc: 0.0000e+00 - val_loss: 1.7560 - val_acc: 0.0000e+00\n",
      "Epoch 7/100\n",
      "75/75 [==============================] - 0s - loss: 1.5816 - acc: 0.0000e+00 - val_loss: 1.5352 - val_acc: 0.0000e+00\n",
      "Epoch 8/100\n",
      "75/75 [==============================] - 0s - loss: 1.3734 - acc: 0.0000e+00 - val_loss: 1.3309 - val_acc: 0.0000e+00\n",
      "Epoch 9/100\n",
      "75/75 [==============================] - 0s - loss: 1.1820 - acc: 0.0000e+00 - val_loss: 1.1452 - val_acc: 0.0000e+00\n",
      "Epoch 10/100\n",
      "75/75 [==============================] - 0s - loss: 1.0095 - acc: 0.0000e+00 - val_loss: 0.9790 - val_acc: 0.0000e+00\n",
      "Epoch 11/100\n",
      "75/75 [==============================] - 0s - loss: 0.8557 - acc: 0.0000e+00 - val_loss: 0.8323 - val_acc: 0.0000e+00\n",
      "Epoch 12/100\n",
      "75/75 [==============================] - 0s - loss: 0.7209 - acc: 0.0000e+00 - val_loss: 0.7043 - val_acc: 0.0000e+00\n",
      "Epoch 13/100\n",
      "75/75 [==============================] - 0s - loss: 0.6039 - acc: 0.0000e+00 - val_loss: 0.5936 - val_acc: 0.0000e+00\n",
      "Epoch 14/100\n",
      "75/75 [==============================] - 0s - loss: 0.5033 - acc: 0.0000e+00 - val_loss: 0.4986 - val_acc: 0.0000e+00\n",
      "Epoch 15/100\n",
      "75/75 [==============================] - 0s - loss: 0.4177 - acc: 0.0000e+00 - val_loss: 0.4177 - val_acc: 0.0000e+00\n",
      "Epoch 16/100\n",
      "75/75 [==============================] - 0s - loss: 0.3453 - acc: 0.0000e+00 - val_loss: 0.3493 - val_acc: 0.0000e+00\n",
      "Epoch 17/100\n",
      "75/75 [==============================] - 0s - loss: 0.2845 - acc: 0.0000e+00 - val_loss: 0.2916 - val_acc: 0.0000e+00\n",
      "Epoch 18/100\n",
      "75/75 [==============================] - 0s - loss: 0.2336 - acc: 0.1467 - val_loss: 0.2433 - val_acc: 1.0000\n",
      "Epoch 19/100\n",
      "75/75 [==============================] - 0s - loss: 0.1914 - acc: 1.0000 - val_loss: 0.2030 - val_acc: 1.0000\n",
      "Epoch 20/100\n",
      "75/75 [==============================] - 0s - loss: 0.1564 - acc: 1.0000 - val_loss: 0.1694 - val_acc: 1.0000\n",
      "Epoch 21/100\n",
      "75/75 [==============================] - 0s - loss: 0.1277 - acc: 1.0000 - val_loss: 0.1415 - val_acc: 1.0000\n",
      "Epoch 22/100\n",
      "75/75 [==============================] - 0s - loss: 0.1040 - acc: 1.0000 - val_loss: 0.1183 - val_acc: 1.0000\n",
      "Epoch 23/100\n",
      "75/75 [==============================] - 0s - loss: 0.0846 - acc: 1.0000 - val_loss: 0.0991 - val_acc: 1.0000\n",
      "Epoch 24/100\n",
      "75/75 [==============================] - 0s - loss: 0.0688 - acc: 1.0000 - val_loss: 0.0833 - val_acc: 1.0000\n",
      "Epoch 25/100\n",
      "75/75 [==============================] - 0s - loss: 0.0559 - acc: 1.0000 - val_loss: 0.0702 - val_acc: 1.0000\n",
      "Epoch 26/100\n",
      "75/75 [==============================] - 0s - loss: 0.0454 - acc: 1.0000 - val_loss: 0.0593 - val_acc: 1.0000\n",
      "Epoch 27/100\n",
      "75/75 [==============================] - 0s - loss: 0.0368 - acc: 1.0000 - val_loss: 0.0504 - val_acc: 1.0000\n",
      "Epoch 28/100\n",
      "75/75 [==============================] - 0s - loss: 0.0299 - acc: 1.0000 - val_loss: 0.0430 - val_acc: 1.0000\n",
      "Epoch 29/100\n",
      "75/75 [==============================] - 0s - loss: 0.0244 - acc: 1.0000 - val_loss: 0.0369 - val_acc: 1.0000\n",
      "Epoch 30/100\n",
      "75/75 [==============================] - 0s - loss: 0.0199 - acc: 1.0000 - val_loss: 0.0318 - val_acc: 1.0000\n",
      "Epoch 31/100\n",
      "75/75 [==============================] - 0s - loss: 0.0162 - acc: 1.0000 - val_loss: 0.0276 - val_acc: 1.0000\n",
      "Epoch 32/100\n",
      "75/75 [==============================] - 0s - loss: 0.0133 - acc: 1.0000 - val_loss: 0.0242 - val_acc: 1.0000\n",
      "Epoch 33/100\n",
      "75/75 [==============================] - 0s - loss: 0.0109 - acc: 1.0000 - val_loss: 0.0213 - val_acc: 1.0000\n",
      "Epoch 34/100\n",
      "75/75 [==============================] - 0s - loss: 0.0090 - acc: 1.0000 - val_loss: 0.0189 - val_acc: 1.0000\n",
      "Epoch 35/100\n",
      "75/75 [==============================] - 0s - loss: 0.0075 - acc: 1.0000 - val_loss: 0.0169 - val_acc: 1.0000\n",
      "Epoch 36/100\n",
      "75/75 [==============================] - 0s - loss: 0.0062 - acc: 1.0000 - val_loss: 0.0152 - val_acc: 1.0000\n",
      "Epoch 37/100\n",
      "75/75 [==============================] - 0s - loss: 0.0053 - acc: 1.0000 - val_loss: 0.0138 - val_acc: 1.0000\n",
      "Epoch 38/100\n",
      "75/75 [==============================] - 0s - loss: 0.0045 - acc: 1.0000 - val_loss: 0.0127 - val_acc: 1.0000\n",
      "Epoch 39/100\n",
      "75/75 [==============================] - 0s - loss: 0.0038 - acc: 1.0000 - val_loss: 0.0117 - val_acc: 1.0000\n",
      "Epoch 40/100\n",
      "75/75 [==============================] - 0s - loss: 0.0033 - acc: 1.0000 - val_loss: 0.0108 - val_acc: 1.0000\n",
      "Epoch 41/100\n",
      "75/75 [==============================] - 0s - loss: 0.0029 - acc: 1.0000 - val_loss: 0.0101 - val_acc: 1.0000\n",
      "Epoch 42/100\n",
      "75/75 [==============================] - 0s - loss: 0.0026 - acc: 1.0000 - val_loss: 0.0095 - val_acc: 1.0000\n",
      "Epoch 43/100\n",
      "75/75 [==============================] - 0s - loss: 0.0023 - acc: 1.0000 - val_loss: 0.0090 - val_acc: 1.0000\n",
      "Epoch 44/100\n",
      "75/75 [==============================] - 0s - loss: 0.0021 - acc: 1.0000 - val_loss: 0.0085 - val_acc: 1.0000\n",
      "Epoch 45/100\n",
      "75/75 [==============================] - 0s - loss: 0.0019 - acc: 1.0000 - val_loss: 0.0081 - val_acc: 1.0000\n",
      "Epoch 46/100\n",
      "75/75 [==============================] - 0s - loss: 0.0018 - acc: 1.0000 - val_loss: 0.0078 - val_acc: 1.0000\n",
      "Epoch 47/100\n",
      "75/75 [==============================] - 0s - loss: 0.0017 - acc: 1.0000 - val_loss: 0.0075 - val_acc: 1.0000\n",
      "Epoch 48/100\n",
      "75/75 [==============================] - 0s - loss: 0.0016 - acc: 1.0000 - val_loss: 0.0073 - val_acc: 1.0000\n",
      "Epoch 49/100\n",
      "75/75 [==============================] - 0s - loss: 0.0015 - acc: 1.0000 - val_loss: 0.0071 - val_acc: 1.0000\n",
      "Epoch 50/100\n",
      "75/75 [==============================] - 0s - loss: 0.0015 - acc: 1.0000 - val_loss: 0.0069 - val_acc: 1.0000\n",
      "Epoch 51/100\n",
      "75/75 [==============================] - 0s - loss: 0.0014 - acc: 1.0000 - val_loss: 0.0067 - val_acc: 1.0000\n",
      "Epoch 52/100\n",
      "75/75 [==============================] - 0s - loss: 0.0014 - acc: 1.0000 - val_loss: 0.0066 - val_acc: 1.0000\n",
      "Epoch 53/100\n",
      "75/75 [==============================] - 0s - loss: 0.0013 - acc: 1.0000 - val_loss: 0.0064 - val_acc: 1.0000\n",
      "Epoch 54/100\n",
      "75/75 [==============================] - 0s - loss: 0.0013 - acc: 1.0000 - val_loss: 0.0063 - val_acc: 1.0000\n",
      "Epoch 55/100\n",
      "75/75 [==============================] - 0s - loss: 0.0013 - acc: 1.0000 - val_loss: 0.0062 - val_acc: 1.0000\n",
      "Epoch 56/100\n",
      "75/75 [==============================] - 0s - loss: 0.0013 - acc: 1.0000 - val_loss: 0.0062 - val_acc: 1.0000\n",
      "Epoch 57/100\n",
      "75/75 [==============================] - 0s - loss: 0.0013 - acc: 1.0000 - val_loss: 0.0061 - val_acc: 1.0000\n",
      "Epoch 58/100\n",
      "75/75 [==============================] - 0s - loss: 0.0013 - acc: 1.0000 - val_loss: 0.0060 - val_acc: 1.0000\n",
      "Epoch 59/100\n",
      "75/75 [==============================] - 0s - loss: 0.0013 - acc: 1.0000 - val_loss: 0.0060 - val_acc: 1.0000\n",
      "Epoch 60/100\n",
      "75/75 [==============================] - 0s - loss: 0.0013 - acc: 1.0000 - val_loss: 0.0059 - val_acc: 1.0000\n",
      "Epoch 61/100\n",
      "75/75 [==============================] - 0s - loss: 0.0012 - acc: 1.0000 - val_loss: 0.0058 - val_acc: 1.0000\n",
      "Epoch 62/100\n",
      "75/75 [==============================] - 0s - loss: 0.0012 - acc: 1.0000 - val_loss: 0.0058 - val_acc: 1.0000\n",
      "Epoch 63/100\n",
      "75/75 [==============================] - 0s - loss: 0.0012 - acc: 1.0000 - val_loss: 0.0058 - val_acc: 1.0000\n",
      "Epoch 64/100\n",
      "75/75 [==============================] - 0s - loss: 0.0012 - acc: 1.0000 - val_loss: 0.0057 - val_acc: 1.0000\n",
      "Epoch 65/100\n",
      "75/75 [==============================] - 0s - loss: 0.0012 - acc: 1.0000 - val_loss: 0.0057 - val_acc: 1.0000\n",
      "Epoch 66/100\n",
      "75/75 [==============================] - 0s - loss: 0.0012 - acc: 1.0000 - val_loss: 0.0057 - val_acc: 1.0000\n",
      "Epoch 67/100\n",
      "75/75 [==============================] - 0s - loss: 0.0012 - acc: 1.0000 - val_loss: 0.0056 - val_acc: 1.0000\n",
      "Epoch 68/100\n",
      "75/75 [==============================] - 0s - loss: 0.0012 - acc: 1.0000 - val_loss: 0.0056 - val_acc: 1.0000\n",
      "Epoch 69/100\n",
      "75/75 [==============================] - 0s - loss: 0.0012 - acc: 1.0000 - val_loss: 0.0056 - val_acc: 1.0000\n",
      "Epoch 70/100\n",
      "75/75 [==============================] - 0s - loss: 0.0012 - acc: 1.0000 - val_loss: 0.0055 - val_acc: 1.0000\n",
      "Epoch 71/100\n",
      "75/75 [==============================] - 0s - loss: 0.0012 - acc: 1.0000 - val_loss: 0.0055 - val_acc: 1.0000\n",
      "Epoch 72/100\n",
      "75/75 [==============================] - 0s - loss: 0.0012 - acc: 1.0000 - val_loss: 0.0055 - val_acc: 1.0000\n",
      "Epoch 73/100\n",
      "75/75 [==============================] - 0s - loss: 0.0012 - acc: 1.0000 - val_loss: 0.0055 - val_acc: 1.0000\n",
      "Epoch 74/100\n",
      "75/75 [==============================] - 0s - loss: 0.0012 - acc: 1.0000 - val_loss: 0.0055 - val_acc: 1.0000\n",
      "Epoch 75/100\n",
      "75/75 [==============================] - 0s - loss: 0.0012 - acc: 1.0000 - val_loss: 0.0055 - val_acc: 1.0000\n",
      "Epoch 76/100\n",
      "75/75 [==============================] - 0s - loss: 0.0012 - acc: 1.0000 - val_loss: 0.0055 - val_acc: 1.0000\n",
      "Epoch 77/100\n",
      "75/75 [==============================] - 0s - loss: 0.0012 - acc: 1.0000 - val_loss: 0.0055 - val_acc: 1.0000\n",
      "Epoch 78/100\n",
      "75/75 [==============================] - 0s - loss: 0.0012 - acc: 1.0000 - val_loss: 0.0055 - val_acc: 1.0000\n",
      "Epoch 79/100\n",
      "75/75 [==============================] - 0s - loss: 0.0012 - acc: 1.0000 - val_loss: 0.0055 - val_acc: 1.0000\n",
      "Epoch 80/100\n",
      "75/75 [==============================] - 0s - loss: 0.0012 - acc: 1.0000 - val_loss: 0.0055 - val_acc: 1.0000\n",
      "Epoch 81/100\n",
      "75/75 [==============================] - 0s - loss: 0.0012 - acc: 1.0000 - val_loss: 0.0055 - val_acc: 1.0000\n",
      "Epoch 82/100\n",
      "75/75 [==============================] - 0s - loss: 0.0012 - acc: 1.0000 - val_loss: 0.0055 - val_acc: 1.0000\n",
      "Epoch 83/100\n",
      "75/75 [==============================] - 0s - loss: 0.0012 - acc: 1.0000 - val_loss: 0.0055 - val_acc: 1.0000\n",
      "Epoch 84/100\n",
      "75/75 [==============================] - 0s - loss: 0.0012 - acc: 1.0000 - val_loss: 0.0055 - val_acc: 1.0000\n",
      "Epoch 85/100\n",
      "75/75 [==============================] - 0s - loss: 0.0012 - acc: 1.0000 - val_loss: 0.0055 - val_acc: 1.0000\n",
      "Epoch 86/100\n",
      "75/75 [==============================] - 0s - loss: 0.0012 - acc: 1.0000 - val_loss: 0.0055 - val_acc: 1.0000\n",
      "Epoch 87/100\n",
      "75/75 [==============================] - 0s - loss: 0.0012 - acc: 1.0000 - val_loss: 0.0055 - val_acc: 1.0000\n",
      "Epoch 88/100\n",
      "75/75 [==============================] - 0s - loss: 0.0012 - acc: 1.0000 - val_loss: 0.0055 - val_acc: 1.0000\n",
      "Epoch 89/100\n",
      "75/75 [==============================] - 0s - loss: 0.0012 - acc: 1.0000 - val_loss: 0.0055 - val_acc: 1.0000\n",
      "Epoch 90/100\n",
      "75/75 [==============================] - 0s - loss: 0.0012 - acc: 1.0000 - val_loss: 0.0055 - val_acc: 1.0000\n",
      "Epoch 91/100\n",
      "75/75 [==============================] - 0s - loss: 0.0012 - acc: 1.0000 - val_loss: 0.0055 - val_acc: 1.0000\n",
      "Epoch 92/100\n",
      "75/75 [==============================] - 0s - loss: 0.0012 - acc: 1.0000 - val_loss: 0.0055 - val_acc: 1.0000\n",
      "Epoch 93/100\n",
      "75/75 [==============================] - 0s - loss: 0.0012 - acc: 1.0000 - val_loss: 0.0055 - val_acc: 1.0000\n",
      "Epoch 94/100\n",
      "75/75 [==============================] - 0s - loss: 0.0012 - acc: 1.0000 - val_loss: 0.0055 - val_acc: 1.0000\n",
      "Epoch 95/100\n",
      "75/75 [==============================] - 0s - loss: 0.0012 - acc: 1.0000 - val_loss: 0.0055 - val_acc: 1.0000\n",
      "Epoch 96/100\n",
      "75/75 [==============================] - 0s - loss: 0.0012 - acc: 1.0000 - val_loss: 0.0055 - val_acc: 1.0000\n",
      "Epoch 97/100\n",
      "75/75 [==============================] - 0s - loss: 0.0012 - acc: 1.0000 - val_loss: 0.0055 - val_acc: 1.0000\n",
      "Epoch 98/100\n",
      "75/75 [==============================] - 0s - loss: 0.0012 - acc: 1.0000 - val_loss: 0.0055 - val_acc: 1.0000\n",
      "Epoch 99/100\n",
      "75/75 [==============================] - 0s - loss: 0.0012 - acc: 1.0000 - val_loss: 0.0055 - val_acc: 1.0000\n",
      "Epoch 100/100\n",
      "75/75 [==============================] - 0s - loss: 0.0012 - acc: 1.0000 - val_loss: 0.0055 - val_acc: 1.0000\n"
     ]
    },
    {
     "data": {
      "text/plain": [
       "<keras.callbacks.History at 0x7f6cb2b092d0>"
      ]
     },
     "execution_count": 127,
     "metadata": {},
     "output_type": "execute_result"
    }
   ],
   "source": [
    "sgd = SGD(lr='0.01', momentum=0.9, nesterov=True)\n",
    "model.compile(loss='mean_squared_error', optimizer=sgd, metrics=['accuracy'])\n",
    "model.fit(X_train, y_train, nb_epoch=100, validation_data=(X_test, y_test))"
   ]
  },
  {
   "cell_type": "code",
   "execution_count": 128,
   "metadata": {
    "collapsed": false
   },
   "outputs": [
    {
     "name": "stdout",
     "output_type": "stream",
     "text": [
      "(5, 8)\n"
     ]
    }
   ],
   "source": [
    "y_pred = model.predict(X_test)\n",
    "print y_pred.shape"
   ]
  },
  {
   "cell_type": "code",
   "execution_count": 129,
   "metadata": {
    "collapsed": false
   },
   "outputs": [
    {
     "name": "stdout",
     "output_type": "stream",
     "text": [
      "[-1.65507472 -1.30549002 -1.10571694 -0.97290486]\n",
      "[-1.65507472 -1.30549002 -1.10571694 -0.97290486]\n",
      "[-1.65507472 -1.30549002 -1.10571694 -0.97290486]\n",
      "[-1.68016552 -1.32879938 -1.1353169  -0.99585926]\n"
     ]
    }
   ],
   "source": [
    "print y_pred[0,:4]\n",
    "print y_pred[1,:4]\n",
    "print y_pred[2,:4]\n",
    "print y_test[0,:4]"
   ]
  },
  {
   "cell_type": "code",
   "execution_count": 130,
   "metadata": {
    "collapsed": false
   },
   "outputs": [
    {
     "data": {
      "text/plain": [
       "<matplotlib.collections.PathCollection at 0x7f6cb1772f10>"
      ]
     },
     "execution_count": 130,
     "metadata": {},
     "output_type": "execute_result"
    },
    {
     "data": {
      "image/png": "[encoded data removed]",
      "text/plain": [
       "<matplotlib.figure.Figure at 0x7f6cb17f4b50>"
      ]
     },
     "metadata": {},
     "output_type": "display_data"
    }
   ],
   "source": [
    "plt.plot(graph_data['#135_4_avg.dat'][:,0], graph_data['#135_4_avg.dat'][:,1])\n",
    "plt.scatter(y_pred[0,:4], y_pred[0,4:])"
   ]
  },
  {
   "cell_type": "code",
   "execution_count": 132,
   "metadata": {
    "collapsed": false
   },
   "outputs": [
    {
     "data": {
      "text/plain": [
       "(['#129_4_avg.dat',\n",
       "  '#131_2_avg.dat',\n",
       "  '#130_4_avg.dat',\n",
       "  '#128_2_avg.dat',\n",
       "  '#127_3_avg.dat',\n",
       "  '#125_2_avg.dat',\n",
       "  '#133_2_avg.dat',\n",
       "  '#132_2_avg.dat',\n",
       "  '#123_3_avg.dat',\n",
       "  '#134_2_avg.dat',\n",
       "  '#135_4_avg.dat'],\n",
       " 11)"
      ]
     },
     "execution_count": 132,
     "metadata": {},
     "output_type": "execute_result"
    }
   ],
   "source": [
    "graph_data.keys(), len(graph_data.keys())"
   ]
  },
  {
   "cell_type": "markdown",
   "metadata": {},
   "source": [
    "# 새암이언니, 이 코드만 보면 돼. 위에꺼는 다 연습용으로 해놓은거라 지저분"
   ]
  },
  {
   "cell_type": "code",
   "execution_count": null,
   "metadata": {
    "collapsed": true
   },
   "outputs": [],
   "source": [
    "# 3. Import libraries and modules\n",
    "%matplotlib inline\n",
    "import matplotlib.pyplot as plt\n",
    "import numpy as np\n",
    "np.random.seed(123)  # for reproducibility\n",
    "import os\n",
    "import matplotlib\n",
    "from PIL import Image\n",
    "\n",
    "import keras\n",
    "print keras.__version__\n",
    "\n",
    "from keras import backend as K\n",
    "K.set_image_dim_ordering('tf')\n",
    "from keras.models import Sequential\n",
    "from keras.layers import Dense, Dropout, Activation, Flatten\n",
    "from keras.layers import Convolution2D, MaxPooling2D\n",
    "from keras.utils import np_utils\n",
    "from keras.optimizers import SGD\n",
    "import theano\n",
    "import scipy as sp\n",
    "from matplotlib import gridspec\n",
    "from sklearn.decomposition import PCA\n",
    "from numpy import genfromtxt\n",
    "from random import shuffle\n",
    "\n",
    "dir_path='saeam_data2/'\n",
    "\n",
    "\n",
    "################################\n",
    "# SAVE GRAPH DATA INTO DICT    #\n",
    "################################\n",
    "graph_data = dict()\n",
    "\n",
    "for root, dirs, files in os.walk(dir_path, topdown=False):\n",
    "    for name in files: # loop through all the files in data/\n",
    "        if \"#\" in name and name[0] != '.':\n",
    "            my_data = np.log10(genfromtxt(os.path.join(root, name), delimiter=','))[1:,] # cut off the 1st row 0 value\n",
    "            graph_data[name] = my_data\n",
    "            \n",
    "\n",
    "            \n",
    "##################################\n",
    "# READ XY_POINTS AND SAVE INTO X #\n",
    "##################################\n",
    "X_data = []\n",
    "y_data = []\n",
    "label_order = []\n",
    "for k,v in graph_data.items():\n",
    "    graph_number = k[1:k.find('_')] # like 127..\n",
    "    \n",
    "    # though it's brute force way..\n",
    "    # We'll walk through all, once for each different graph\n",
    "    for root, dirs, files in os.walk(dir_path, topdown=False):\n",
    "        for name in files: # loop through all the files in data/\n",
    "            if \"picking_xy_\"+graph_number in name and name[0] != '.':\n",
    "                points = np.log10(genfromtxt(os.path.join(root, name), delimiter='\\t'))\n",
    "                flattened_graph = np.hstack((graph_data[k][:,0],graph_data[k][:,1]))\n",
    "                #print flattened_graph.shape\n",
    "                #X_data.append(graph_data[k]) # append graph\n",
    "                X_data.append(flattened_graph)\n",
    "                flattened_points = np.hstack((points[:,0],points[:,1]))\n",
    "                y_data.append(flattened_points)\n",
    "                label_order.append(k)\n",
    "\n",
    "    \n",
    "X = np.asarray(X_data)\n",
    "y = np.asarray(y_data)\n",
    "\n",
    "\n",
    "##################################\n",
    "# SPLIT TRAIN & TEST DATA        #\n",
    "##################################\n",
    "train_split = 75\n",
    "X_train = X[:train_split,]\n",
    "y_train = y[:train_split,]\n",
    "X_test = X[train_split:,]\n",
    "y_test = y[train_split:,]\n",
    "print X_train.shape, y_train.shape, X_test.shape, y_test.shape\n",
    "\n",
    "\n",
    "##################################\n",
    "# BUILD UP NEURAL NETWORK MODEL  #\n",
    "##################################\n",
    "from keras.models import Sequential\n",
    "from keras.layers import Dense, Activation\n",
    "from keras.optimizers import SGD\n",
    "\n",
    "model = Sequential()\n",
    "model.add(Dense(100, input_dim=2034))\n",
    "model.add(Activation('relu'))\n",
    "model.add(Dense(8))\n",
    "\n",
    "model.summary()\n",
    "\n",
    "\n",
    "##########################\n",
    "# TRAIN (FIT) THE MODEL  #\n",
    "##########################\n",
    "sgd = SGD(lr='0.01', momentum=0.9, nesterov=True)\n",
    "model.compile(loss='mean_squared_error', optimizer=sgd, metrics=['accuracy'])\n",
    "model.fit(X_train, y_train, nb_epoch=100, validation_data=(X_test, y_test))"
   ]
  }
 ],
 "metadata": {
  "kernelspec": {
   "display_name": "Python 2",
   "language": "python",
   "name": "python2"
  },
  "language_info": {
   "codemirror_mode": {
    "name": "ipython",
    "version": 2
   },
   "file_extension": ".py",
   "mimetype": "text/x-python",
   "name": "python",
   "nbconvert_exporter": "python",
   "pygments_lexer": "ipython2",
   "version": "2.7.12"
  }
 },
 "nbformat": 4,
 "nbformat_minor": 1
}
